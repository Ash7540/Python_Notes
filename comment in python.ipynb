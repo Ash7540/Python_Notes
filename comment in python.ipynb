{
 "cells": [
  {
   "cell_type": "markdown",
   "id": "aea4f17a",
   "metadata": {},
   "source": [
    "*Comment* :- It means giving some information about the code that is used. It Helpd developer to understand the code."
   ]
  },
  {
   "cell_type": "code",
   "execution_count": 4,
   "id": "82f7e6b6",
   "metadata": {},
   "outputs": [
    {
     "name": "stdout",
     "output_type": "stream",
     "text": [
      "This is Used to Comment single line\n"
     ]
    }
   ],
   "source": [
    "# This is Comment\n",
    "print(\"This is Used to Comment single line\")"
   ]
  },
  {
   "cell_type": "code",
   "execution_count": 2,
   "id": "11475032",
   "metadata": {},
   "outputs": [
    {
     "name": "stdout",
     "output_type": "stream",
     "text": [
      "Multi Line comment\n"
     ]
    }
   ],
   "source": [
    "\"\"\"\n",
    "This is a\n",
    "multiline comment \n",
    "using line string\n",
    "\"\"\"\n",
    "print(\"Multi Line comment\")"
   ]
  },
  {
   "cell_type": "code",
   "execution_count": 5,
   "id": "e52fc792",
   "metadata": {},
   "outputs": [],
   "source": [
    "# this is comment 1"
   ]
  },
  {
   "cell_type": "code",
   "execution_count": 7,
   "id": "4f78a3e3",
   "metadata": {},
   "outputs": [
    {
     "name": "stdout",
     "output_type": "stream",
     "text": [
      "10\n"
     ]
    }
   ],
   "source": [
    "\"\"\"\n",
    "this \n",
    "is \n",
    "multi \n",
    "line \n",
    "comment\n",
    "\"\"\"\n",
    "print(10)"
   ]
  },
  {
   "cell_type": "code",
   "execution_count": null,
   "id": "af65d470",
   "metadata": {},
   "outputs": [],
   "source": []
  }
 ],
 "metadata": {
  "kernelspec": {
   "display_name": "Python 3 (ipykernel)",
   "language": "python",
   "name": "python3"
  },
  "language_info": {
   "codemirror_mode": {
    "name": "ipython",
    "version": 3
   },
   "file_extension": ".py",
   "mimetype": "text/x-python",
   "name": "python",
   "nbconvert_exporter": "python",
   "pygments_lexer": "ipython3",
   "version": "3.9.12"
  }
 },
 "nbformat": 4,
 "nbformat_minor": 5
}
